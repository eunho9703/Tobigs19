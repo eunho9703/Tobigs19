{
 "cells": [
  {
   "cell_type": "markdown",
   "id": "00493e77",
   "metadata": {},
   "source": [
    "> # Neural Network Basic - Week3 과제\n"
   ]
  },
  {
   "cell_type": "markdown",
   "id": "747656a3",
   "metadata": {},
   "source": [
    "## Import Library"
   ]
  },
  {
   "cell_type": "code",
   "execution_count": 1,
   "id": "2d4be987",
   "metadata": {},
   "outputs": [],
   "source": [
    "import numpy as np\n",
    "from matplotlib import pyplot as plt\n",
    "from dataset.mnist import load_mnist"
   ]
  },
  {
   "cell_type": "markdown",
   "id": "bbd9ddbb",
   "metadata": {},
   "source": [
    "## Load Dataset\n",
    "- MNIST "
   ]
  },
  {
   "cell_type": "code",
   "execution_count": 2,
   "id": "2813d656",
   "metadata": {},
   "outputs": [],
   "source": [
    "(X_train, Y_train), (X_test, Y_test) = \\\n",
    "    load_mnist(normalize=True, one_hot_label=False)"
   ]
  },
  {
   "cell_type": "code",
   "execution_count": 3,
   "id": "2bd1d69a",
   "metadata": {},
   "outputs": [
    {
     "name": "stdout",
     "output_type": "stream",
     "text": [
      "X_train shape: (60000, 784)\n",
      "X_test shape: (10000, 784)\n",
      "Y_train shape: (60000,)\n",
      "Y_train shape: (10000,)\n"
     ]
    }
   ],
   "source": [
    "print(f'X_train shape: {X_train.shape}')\n",
    "print(f'X_test shape: {X_test.shape}')\n",
    "print(f'Y_train shape: {Y_train.shape}')\n",
    "print(f'Y_train shape: {Y_test.shape}')"
   ]
  },
  {
   "cell_type": "markdown",
   "id": "4581cc2e",
   "metadata": {},
   "source": [
    "## Activation Function \n",
    "- sigmoid & relu : hidden layer activation function \n",
    "- softmax : output layer activation function "
   ]
  },
  {
   "cell_type": "code",
   "execution_count": 4,
   "id": "a147a2b7",
   "metadata": {},
   "outputs": [],
   "source": [
    "class sigmoid:\n",
    "    # sigmoid 함수를 작성하세요 \n",
    "    def forward(x):\n",
    "        return 1 / (1+np.exp(-x))\n",
    "    \n",
    "    # sigmoid 함수의 미분을 작성하세요\n",
    "    def backward(x):\n",
    "        return x * (1-x)"
   ]
  },
  {
   "cell_type": "code",
   "execution_count": 5,
   "id": "f37afa8d",
   "metadata": {},
   "outputs": [],
   "source": [
    "class relu:\n",
    "    # relu 함수를 작성하세요\n",
    "    def forward(x):\n",
    "        return np.maximum(0,x)\n",
    "    \n",
    "    # relu 함수의 미분을 작성하세요\n",
    "    def backward(x):\n",
    "        return np.where(x>0,1,0)"
   ]
  },
  {
   "cell_type": "code",
   "execution_count": 6,
   "id": "cb44b346",
   "metadata": {},
   "outputs": [],
   "source": [
    "class softmax:\n",
    "    def forward(z):\n",
    "        y = []\n",
    "        for zi in z:\n",
    "            c = np.max(zi)\n",
    "            exp_zi = np.exp(zi-c)\n",
    "            sum_exp_zi = np.sum(exp_zi)\n",
    "            yi = exp_zi / sum_exp_zi\n",
    "            y.append(yi)\n",
    "\n",
    "        return np.array(y)\n",
    "    \n",
    "    def backward(p, y) :\n",
    "        dp = p.copy()\n",
    "        for dpi, yi in zip(dp, y):\n",
    "            for k in range(dp.shape[1]):\n",
    "                if k == yi :\n",
    "                    dpi[k] -= 1\n",
    "        return dp"
   ]
  },
  {
   "cell_type": "markdown",
   "id": "36955740",
   "metadata": {},
   "source": [
    "## Loss Function"
   ]
  },
  {
   "cell_type": "code",
   "execution_count": 7,
   "id": "44e0ad37",
   "metadata": {},
   "outputs": [],
   "source": [
    "def cross_entropy(p, y):\n",
    "    loss = []\n",
    "    for pi, yi in zip(p, y):\n",
    "        for k in range(p.shape[1]):\n",
    "            if k == yi:\n",
    "                loss.append((-1) * (np.log(pi[k] + 1e-8))) \n",
    "    return loss"
   ]
  },
  {
   "cell_type": "markdown",
   "id": "0f9a7228",
   "metadata": {},
   "source": [
    "## Layer"
   ]
  },
  {
   "cell_type": "code",
   "execution_count": 8,
   "id": "668bda1a",
   "metadata": {},
   "outputs": [],
   "source": [
    "class Layer:\n",
    "    def __init__(self, input_size, output_size, std=1e-4) :\n",
    "        self.input_size = input_size\n",
    "        self.output_size = output_size\n",
    "        self.bias = np.random.randn(output_size)\n",
    "        self.weight = np.random.randn(input_size, output_size)*std"
   ]
  },
  {
   "cell_type": "markdown",
   "id": "a72dfcee",
   "metadata": {},
   "source": [
    "## Neural Network\n",
    "- 각 메소드와 변수들의 역할을 주석으로 달아주세요! "
   ]
  },
  {
   "cell_type": "code",
   "execution_count": 9,
   "id": "33125095",
   "metadata": {},
   "outputs": [],
   "source": [
    "class CustomNet:\n",
    "    # CustomNet을 선언할 때 생성되는 값들입니다.\n",
    "    def __init__(self, lr=0.0001, epoch=500, batch_size=200):\n",
    "        self.lr = lr # 학습률\n",
    "        self.epoch = epoch # 학습 반복 횟수 \n",
    "        self.batch_size = batch_size # 배치 사이즈\n",
    "        self.loss_function = cross_entropy # 모델 성능 평가 - 손실함수\n",
    "        self.layers = [] # Layer 리스트\n",
    "        self.activations = [softmax] # 활성화 함수\n",
    "        self.nodes = [] # Node \n",
    "    \n",
    "    # Layer를 추가할 때 호출합니다\n",
    "    def addLayer(self, Layer): \n",
    "        self.layers.append(Layer) # Layer 입력받아 리스트에 추가\n",
    "        if not self.nodes: # 빈 노드인 경우  \n",
    "            self.nodes.append(np.zeros(Layer.input_size)) # input size 정보 추가\n",
    "        self.nodes.append(np.zeros(Layer.output_size)) # output size 정보 추가\n",
    "        \n",
    "    # Activation Function을 추가할 때 호출합니다\n",
    "    def addActivation(self, Activation):\n",
    "        tmp = self.activations.pop() # 활성화 함수 가장 최근 값을 변수에 저장   \n",
    "        self.activations.append(Activation) # 입력한 활성화 함수 추가\n",
    "        self.activations.append(tmp) # pop 했던 최근 활성화 함수 다시 추가함으로 유지\n",
    "        \n",
    "    # 순전파 함수\n",
    "    def _forward(self, X):\n",
    "        self.nodes[0] = X.copy() # X값을 복사해 노드의 첫 요소로 저장\n",
    "        output = X.copy() \n",
    "        for i in range(len(self.layers)): \n",
    "            Layer = self.layers[i] \n",
    "            Activation = self.activations[i] #활성화 함수\n",
    "            output = np.dot(self.nodes[i], Layer.weight)  # 노드 가중치 행렬곱\n",
    "            output = output+ Layer.bias # 편향 더해줌\n",
    "            output = Activation.forward(output) # 활성화 함수 적용\n",
    "            self.nodes[i+1] = output # output을 해당 노드 다음 노드 값으로 저장\n",
    "        return output   \n",
    "    \n",
    "    # 역전파 함수\n",
    "    def _backward(self, X, output, y) :\n",
    "        for i in reversed(range(len(self.layers))): # 리스트 안 요소 뒤집는 기능\n",
    "            a = self.nodes[i+1] # 다음 노드 값 변수에 저장\n",
    "            Layer = self.layers[i] \n",
    "            Activation = self.activations[i] \n",
    "            \n",
    "            if i+1 == len(self.layers): # 마지막 층인 경우\n",
    "                error = Activation.backward(output, y)\n",
    "            else: # 마지막 층이 아닌 경우\n",
    "                error *= Activation.backward(a)\n",
    "            Layer.weight -= np.dot(error.T, self.nodes[i]).T*self.lr/X.shape[0] # 가중치 업데이트\n",
    "            Layer.bias -= error.sum(axis=0)*self.lr/X.shape[0] # 편향 업데이트\n",
    "            error = np.dot(error, Layer.weight.T) # error 계산\n",
    "            \n",
    "    # Accrucy를 반환합니다\n",
    "    def _accuracy(self, output, y):\n",
    "        pre_p = np.argmax(output, axis=1) # 열을 따라 가장 큰 값의 인덱스 찾아 저장\n",
    "        return np.sum(pre_p==y)/y.shape[0] # 예측값과 실제 y값 비교 , 정확도 계산\n",
    "    \n",
    "    # 데이터셋에 모델을 fit할때 호출합니다\n",
    "    def fit(self, X, y, val_X, val_y):\n",
    "        history = {'val_acc': [],'val_loss': []}\n",
    "        N = X.shape[0]\n",
    "        for i in range(self.epoch): # 에포크 수만큼 반복\n",
    "            for j in range(N//self.batch_size): # 배치 사이즈만큼 실행\n",
    "                batch_mask = np.random.choice(N, self.batch_size) # 랜덤 생성\n",
    "                X_batch = X[batch_mask] \n",
    "                y_batch = y[batch_mask] \n",
    "                output = self._forward(X_batch) # 순전파 계산\n",
    "                self._backward(X_batch, output, y_batch) # 역전파 계산\n",
    "            \n",
    "            #accuracy와 loss를 기록해둡시다\n",
    "            output = self._forward(val_X) # val_X 순전파 함수 적용 , output \n",
    "            history[\"val_acc\"].append(self._accuracy(output, val_y)) \n",
    "            history[\"val_loss\"].append(sum(self.loss_function(output, val_y))) \n",
    "            \n",
    "            #중간중간 기록을 찍어볼 때 사용. 적절히 조절해 쓰세요\n",
    "            if i % 10 == 0:\n",
    "                print(i, \"test accuracy :\", history[\"val_acc\"][-1])\n",
    "                print(i, \"test loss     :\", history[\"val_loss\"][-1])\n",
    "        return history"
   ]
  },
  {
   "cell_type": "markdown",
   "id": "e7787d0e",
   "metadata": {},
   "source": [
    "## Customizing\n",
    "- Network parameter, Layer architecture, Activation function .. 등등 다양한 하이퍼파라미터를 커스터마이징하여 높은 성능에 도달해 봅시다! "
   ]
  },
  {
   "cell_type": "code",
   "execution_count": 10,
   "id": "10d3d20c",
   "metadata": {},
   "outputs": [],
   "source": [
    "# 하이퍼파라미터를 적절히 조절해 뉴럴넷을 선언하세요\n",
    "nn = CustomNet(lr=0.005, epoch=200, batch_size=400)\n",
    "\n",
    "# 원하는 만큼 층과 활성화 함수를 쌓아 주세요. 기본적으로 2Layer를 예시로 적어드립니다\n",
    "nn.addLayer(Layer(784,100))\n",
    "nn.addActivation(sigmoid)\n",
    "nn.addLayer(Layer(100,10))"
   ]
  },
  {
   "cell_type": "code",
   "execution_count": 11,
   "id": "771766e2",
   "metadata": {},
   "outputs": [
    {
     "name": "stdout",
     "output_type": "stream",
     "text": [
      "(784, 100) (100,)\n",
      "(100, 10) (10,)\n"
     ]
    }
   ],
   "source": [
    "# 선언한 뉴럴넷의 구조입니다\n",
    "for layer in nn.layers:\n",
    "    print(layer.weight.shape, layer.bias.shape)"
   ]
  },
  {
   "cell_type": "code",
   "execution_count": 12,
   "id": "b2c1018a",
   "metadata": {},
   "outputs": [
    {
     "name": "stdout",
     "output_type": "stream",
     "text": [
      "0 test accuracy : 0.1135\n",
      "0 test loss     : 23180.173990581712\n",
      "10 test accuracy : 0.1207\n",
      "10 test loss     : 22907.575229028538\n",
      "20 test accuracy : 0.1842\n",
      "20 test loss     : 22786.31033380783\n",
      "30 test accuracy : 0.2098\n",
      "30 test loss     : 22571.130104276035\n",
      "40 test accuracy : 0.2253\n",
      "40 test loss     : 22078.259100708343\n",
      "50 test accuracy : 0.2557\n",
      "50 test loss     : 21000.879498443144\n",
      "60 test accuracy : 0.3764\n",
      "60 test loss     : 19433.92377473719\n",
      "70 test accuracy : 0.4497\n",
      "70 test loss     : 17500.086107580868\n",
      "80 test accuracy : 0.5092\n",
      "80 test loss     : 15395.67299625504\n",
      "90 test accuracy : 0.5872\n",
      "90 test loss     : 13610.34687660438\n",
      "100 test accuracy : 0.6694\n",
      "100 test loss     : 11891.308139547858\n",
      "110 test accuracy : 0.7265\n",
      "110 test loss     : 10206.49094333432\n",
      "120 test accuracy : 0.761\n",
      "120 test loss     : 8864.427127521018\n",
      "130 test accuracy : 0.7863\n",
      "130 test loss     : 7878.693141518566\n",
      "140 test accuracy : 0.8068\n",
      "140 test loss     : 7143.995371667783\n",
      "150 test accuracy : 0.8221\n",
      "150 test loss     : 6567.553924409982\n",
      "160 test accuracy : 0.834\n",
      "160 test loss     : 6105.012405544639\n",
      "170 test accuracy : 0.8444\n",
      "170 test loss     : 5719.176801171277\n",
      "180 test accuracy : 0.8533\n",
      "180 test loss     : 5398.384036084284\n",
      "190 test accuracy : 0.8596\n",
      "190 test loss     : 5128.628704636606\n"
     ]
    }
   ],
   "source": [
    "history = nn.fit(X_train, Y_train, X_test, Y_test)"
   ]
  },
  {
   "cell_type": "markdown",
   "id": "b76a6163",
   "metadata": {},
   "source": [
    "## Accuracy, Loss Visualization\n",
    "- 자유롭게 Accuracy나 Loss를 시각화하여 확인하고 결과를 확인해 보세요! "
   ]
  },
  {
   "cell_type": "code",
   "execution_count": 13,
   "id": "f16149b9",
   "metadata": {},
   "outputs": [
    {
     "data": {
      "image/png": "[encoded data removed]",
      "text/plain": [
       "<Figure size 432x288 with 2 Axes>"
      ]
     },
     "metadata": {
      "needs_background": "light"
     },
     "output_type": "display_data"
    }
   ],
   "source": [
    "epoch=200\n",
    "plt.subplot(1, 2, 1)  \n",
    "plt.plot(range(epoch),history['val_acc'])\n",
    "plt.title('Accuracy')\n",
    "plt.xlabel('Epochs')\n",
    "plt.ylabel('Accuracy')\n",
    "\n",
    "plt.subplot(1, 2, 2)  \n",
    "plt.plot(range(epoch),history['val_loss'])\n",
    "plt.title('Loss')\n",
    "plt.xlabel('Epochs')\n",
    "plt.ylabel('Loss')\n",
    "\n",
    "plt.tight_layout()\n",
    "plt.show()"
   ]
  }
 ],
 "metadata": {
  "kernelspec": {
   "display_name": "Python 3 (ipykernel)",
   "language": "python",
   "name": "python3"
  },
  "language_info": {
   "codemirror_mode": {
    "name": "ipython",
    "version": 3
   },
   "file_extension": ".py",
   "mimetype": "text/x-python",
   "name": "python",
   "nbconvert_exporter": "python",
   "pygments_lexer": "ipython3",
   "version": "3.9.12"
  }
 },
 "nbformat": 4,
 "nbformat_minor": 5
}
