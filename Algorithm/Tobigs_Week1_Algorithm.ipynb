{
 "cells": [
  {
   "cell_type": "markdown",
   "id": "29d17382",
   "metadata": {},
   "source": [
    "## 1."
   ]
  },
  {
   "cell_type": "code",
   "execution_count": null,
   "id": "bb6e3b47",
   "metadata": {},
   "outputs": [],
   "source": [
    "[player,card] = map(int,input().split())\n",
    "max = 1\n",
    "\n",
    "for i in range(1,player+1):\n",
    "    globals()[\"p{}\".format(i)] = list(map(int,input().split())) #p1 p2 p3 리스트변수 \n",
    "    globals()[\"min{}\".format(i)] = globals()[\"p{}\".format(i)][0] #min1 min2 min3 각 리스트 최소 원소 초기값\n",
    "    \n",
    "    for j in globals()[\"p{}\".format(i)]: \n",
    "        if j < globals()[\"min{}\".format(i)]:\n",
    "            globals()[\"min{}\".format(i)] = j # 각 리스트 p의 최소 원소 min \n",
    "            \n",
    "    if max < globals()[\"min{}\".format(i)]:\n",
    "            max=globals()[\"min{}\".format(i)] # min중 최댓값 max로 \n",
    "\n",
    "print(max)"
   ]
  },
  {
   "cell_type": "markdown",
   "id": "f9c56957",
   "metadata": {},
   "source": [
    "## 2."
   ]
  },
  {
   "cell_type": "code",
   "execution_count": 28,
   "id": "f9bed6a3",
   "metadata": {},
   "outputs": [
    {
     "name": "stdout",
     "output_type": "stream",
     "text": [
      "5\n",
      "R R U D D L\n",
      "3 2\n"
     ]
    }
   ],
   "source": [
    "n=int(input())\n",
    "start=[1,1] #리스트 각 원소에 연산 \n",
    "\n",
    "move=input().split()\n",
    "\n",
    "for i in move:\n",
    "    if (i == 'L') & (start[1] > 1): #공간을 벗어나면 안되므로 각 조건 충족해야\n",
    "        start[1] = start[1]-1\n",
    "    if (i == 'R') & (start[1] < n):\n",
    "        start[1] = start[1]+1\n",
    "    if (i == 'U') & (start[0] > 1):\n",
    "        start[0] = start[0]-1\n",
    "    if (i == 'D') & (start[0] < n):\n",
    "        start[0] = start[0]+1\n",
    "    else:continue #벗어나는 움직임 무시\n",
    "\n",
    "print(start[0],start[1])"
   ]
  },
  {
   "cell_type": "markdown",
   "id": "30bbd7a0",
   "metadata": {},
   "source": [
    "## 3."
   ]
  },
  {
   "cell_type": "code",
   "execution_count": 1,
   "id": "b3b29964",
   "metadata": {},
   "outputs": [
    {
     "name": "stdout",
     "output_type": "stream",
     "text": [
      "2 1 5\n",
      "4\n"
     ]
    }
   ],
   "source": [
    "import math\n",
    "u,d,h = map(int,input().split())\n",
    "print(math.ceil(1+(h-u)/(u-d))) \n",
    "\n",
    "#(u-d)*X>=h\n",
    "#이때 위 식은 h에 도달했을 떄도 내려오는 것을 가정하므로 u를 빼 주면 내려오는 것을 계산하지 않음\n",
    "#소수점이 나올 경우 h에 도달함을 의미하므로 올림"
   ]
  },
  {
   "cell_type": "markdown",
   "id": "28b23700",
   "metadata": {},
   "source": [
    "## 4."
   ]
  },
  {
   "cell_type": "code",
   "execution_count": 6,
   "id": "f00a74a5",
   "metadata": {},
   "outputs": [
    {
     "name": "stdout",
     "output_type": "stream",
     "text": [
      "00011000\n",
      "1\n"
     ]
    }
   ],
   "source": [
    "s = input() # ex)010010101\n",
    "count = 0\n",
    " \n",
    "for i in range(len(s)-1): #len(s)=8 range(7)로 0-6까지 ,s[0],s[1]-s[6]s[7] 비교\n",
    "    if s[i] != s[i+1]:\n",
    "        count += 1\n",
    "            \n",
    "print((count+1)//2)\n",
    "\n",
    "#몫으로 출력 (0-1 1-0 두번이므로 2로 나눠줌\n",
    "#s[0]의 경우 한번만 바뀌기 때문에 s[0]!=s[1]인 경우 고려해서 count+1)"
   ]
  },
  {
   "cell_type": "markdown",
   "id": "a32294b6",
   "metadata": {},
   "source": [
    "## 5."
   ]
  },
  {
   "cell_type": "code",
   "execution_count": null,
   "id": "9513a4c1",
   "metadata": {},
   "outputs": [],
   "source": [
    "while 1:\n",
    "    num=input()\n",
    "    if num=='0': #마지막 입력 수 0 \n",
    "        break\n",
    "    if num==num[::-1]: #반전한 수와 동일하지 않은 경우\n",
    "        print('yes')\n",
    "    else:\n",
    "        print('no')"
   ]
  }
 ],
 "metadata": {
  "kernelspec": {
   "display_name": "Python 3 (ipykernel)",
   "language": "python",
   "name": "python3"
  },
  "language_info": {
   "codemirror_mode": {
    "name": "ipython",
    "version": 3
   },
   "file_extension": ".py",
   "mimetype": "text/x-python",
   "name": "python",
   "nbconvert_exporter": "python",
   "pygments_lexer": "ipython3",
   "version": "3.9.12"
  }
 },
 "nbformat": 4,
 "nbformat_minor": 5
}
